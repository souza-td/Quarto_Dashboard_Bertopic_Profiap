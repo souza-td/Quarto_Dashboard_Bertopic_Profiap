{
 "cells": [
  {
   "cell_type": "markdown",
   "id": "ff75d52b-81b8-4c52-8078-6231fa77ad10",
   "metadata": {},
   "source": [
    "# Exploração inicial · BERTopic + OCTIS  \n",
    "Este notebook mostra, passo a passo:\n",
    "\n",
    "1. Carregar o *dataset* bruto (`data/raw/…`)  \n",
    "2. Aplicar o mesmo tokenizador usado no pipeline de produção  \n",
    "3. Gerar um **dataset OCTIS** em memória  \n",
    "4. Treinar um modelo **BERTopic** rápido (sample)  \n",
    "5. Avaliar coerência/diversidade  \n",
    "6. Visualizar e inspecionar tópicos  \n"
   ]
  },
  {
   "cell_type": "code",
   "execution_count": 4,
   "id": "ad751217-a3f0-49c2-91bc-38c673cf4753",
   "metadata": {},
   "outputs": [
    {
     "name": "stdout",
     "output_type": "stream",
     "text": [
      "The autoreload extension is already loaded. To reload it, use:\n",
      "  %reload_ext autoreload\n"
     ]
    },
    {
     "ename": "ModuleNotFoundError",
     "evalue": "No module named 'src'",
     "output_type": "error",
     "traceback": [
      "\u001b[0;31m---------------------------------------------------------------------------\u001b[0m",
      "\u001b[0;31mModuleNotFoundError\u001b[0m                       Traceback (most recent call last)",
      "Cell \u001b[0;32mIn[4], line 11\u001b[0m\n\u001b[1;32m      8\u001b[0m get_ipython()\u001b[38;5;241m.\u001b[39mrun_line_magic(\u001b[38;5;124m'\u001b[39m\u001b[38;5;124mautoreload\u001b[39m\u001b[38;5;124m'\u001b[39m, \u001b[38;5;124m'\u001b[39m\u001b[38;5;124m2\u001b[39m\u001b[38;5;124m'\u001b[39m)\n\u001b[1;32m     10\u001b[0m \u001b[38;5;66;03m# imports principais\u001b[39;00m\n\u001b[0;32m---> 11\u001b[0m \u001b[38;5;28;01mfrom\u001b[39;00m\u001b[38;5;250m \u001b[39m\u001b[38;5;21;01msrc\u001b[39;00m\u001b[38;5;21;01m.\u001b[39;00m\u001b[38;5;21;01mutils\u001b[39;00m\u001b[38;5;21;01m.\u001b[39;00m\u001b[38;5;21;01mseed\u001b[39;00m\u001b[38;5;250m \u001b[39m\u001b[38;5;28;01mimport\u001b[39;00m set_all\n\u001b[1;32m     12\u001b[0m \u001b[38;5;28;01mfrom\u001b[39;00m\u001b[38;5;250m \u001b[39m\u001b[38;5;21;01msrc\u001b[39;00m\u001b[38;5;21;01m.\u001b[39;00m\u001b[38;5;21;01mpreprocessing\u001b[39;00m\u001b[38;5;21;01m.\u001b[39;00m\u001b[38;5;21;01mtokenizer\u001b[39;00m\u001b[38;5;250m \u001b[39m\u001b[38;5;28;01mimport\u001b[39;00m spacy_tokenizer\n\u001b[1;32m     13\u001b[0m \u001b[38;5;28;01mfrom\u001b[39;00m\u001b[38;5;250m \u001b[39m\u001b[38;5;21;01msrc\u001b[39;00m\u001b[38;5;21;01m.\u001b[39;00m\u001b[38;5;21;01mpreprocessing\u001b[39;00m\u001b[38;5;21;01m.\u001b[39;00m\u001b[38;5;21;01moctis_builder\u001b[39;00m\u001b[38;5;250m \u001b[39m\u001b[38;5;28;01mimport\u001b[39;00m build_octis_dataset\n",
      "\u001b[0;31mModuleNotFoundError\u001b[0m: No module named 'src'"
     ]
    }
   ],
   "source": [
    "# para que src/ seja encontrado mesmo rodando direto do notebook\n",
    "import sys, pathlib, importlib\n",
    "ROOT = pathlib.Path().resolve().parent  # raiz do projeto\n",
    "sys.path.append(str(ROOT / \"src\"))\n",
    "\n",
    "# recarrega módulos alterados sem restart\n",
    "%load_ext autoreload\n",
    "%autoreload 2\n",
    "\n",
    "# imports principais\n",
    "import pandas as pd\n",
    "from src.utils.seed import set_all\n",
    "from src.preprocessing.tokenizer import spacy_tokenizer\n",
    "from src.preprocessing.octis_builder import build_octis_dataset\n",
    "from src.modeling.topic_model import build_topic_model\n",
    "from src.modeling.metrics import calculate_metrics\n",
    "from octis.dataset.dataset import Dataset\n",
    "\n",
    "set_all(42)  # reprodutibilidade"
   ]
  },
  {
   "cell_type": "code",
   "execution_count": null,
   "id": "e67889f3-e8ba-4240-bade-c1ba3a15df54",
   "metadata": {},
   "outputs": [],
   "source": []
  }
 ],
 "metadata": {
  "kernelspec": {
   "display_name": "Python 3 (ipykernel)",
   "language": "python",
   "name": "python3"
  },
  "language_info": {
   "codemirror_mode": {
    "name": "ipython",
    "version": 3
   },
   "file_extension": ".py",
   "mimetype": "text/x-python",
   "name": "python",
   "nbconvert_exporter": "python",
   "pygments_lexer": "ipython3",
   "version": "3.10.12"
  }
 },
 "nbformat": 4,
 "nbformat_minor": 5
}
